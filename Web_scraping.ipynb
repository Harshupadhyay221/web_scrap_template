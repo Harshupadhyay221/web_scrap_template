{
 "cells": [
  {
   "cell_type": "markdown",
   "id": "383417a9-b09b-480e-b8e7-1538b159eda4",
   "metadata": {},
   "source": [
    "# Importing Libraries \n",
    "### For parsing I use this online news website \"https://indianexpress.com/\"\n",
    "#### DataFrame having Two columns News_Statement and News_category"
   ]
  },
  {
   "cell_type": "code",
   "execution_count": 1,
   "id": "062ff994-3101-4dea-ad7b-6d9655fe3ce6",
   "metadata": {},
   "outputs": [],
   "source": [
    "import requests\n",
    "from bs4 import BeautifulSoup\n",
    "import pandas as pd"
   ]
  },
  {
   "cell_type": "markdown",
   "id": "81353b79-3cf0-4ca1-8064-2252be2a44d7",
   "metadata": {},
   "source": [
    "## Testing For Single Web Page"
   ]
  },
  {
   "cell_type": "code",
   "execution_count": 2,
   "id": "487faff3-1735-4a27-bb9a-7092b2b9aa80",
   "metadata": {},
   "outputs": [],
   "source": [
    "url = \"https://indianexpress.com/section/india/\"\n",
    "response = requests.get(url)\n",
    "html_content = response.text\n"
   ]
  },
  {
   "cell_type": "code",
   "execution_count": 3,
   "id": "aef45665-7b0b-47e4-ae6f-dcee84f6c566",
   "metadata": {},
   "outputs": [
    {
     "name": "stdout",
     "output_type": "stream",
     "text": [
      "Successfully fetched the webpage!\n"
     ]
    }
   ],
   "source": [
    "response = requests.get(url)\n",
    "if response.status_code == 200:\n",
    "    print(\"Successfully fetched the webpage!\")\n",
    "else:\n",
    "    print(f\"Failed to fetch the webpage. Status code: {response.status_code}\")"
   ]
  },
  {
   "cell_type": "code",
   "execution_count": 4,
   "id": "77f4a2a4-b544-4ca0-ac1a-6596eca485fb",
   "metadata": {},
   "outputs": [],
   "source": [
    "# Parse the HTML content with BeautifulSoup\n",
    "soup = BeautifulSoup(html_content, 'html.parser')"
   ]
  },
  {
   "cell_type": "code",
   "execution_count": 5,
   "id": "1a2ec964-d1eb-41c2-972d-cb10b1ee9ad0",
   "metadata": {},
   "outputs": [],
   "source": [
    "formatted_html = soup.prettify()"
   ]
  },
  {
   "cell_type": "code",
   "execution_count": 6,
   "id": "bb980869-9b72-4204-97b8-609121539af1",
   "metadata": {},
   "outputs": [
    {
     "name": "stdout",
     "output_type": "stream",
     "text": [
      "Modi government believes in democratising technology: IT Minister Ashwini Vaishnaw in Lok Sabha\n",
      "Parliament Winter Session LIVE Updates: Uproar in both Houses of Parliament amid Centre-Oppn faceoff over Dhankhar removal, Cong-Soros link\n",
      "Remove Nishikant Dubey’s defamatory, unparliamentary remarks from record: Congress to Om Birla\n",
      "‘Happy I’m an Indian now’: Pakistan-born Christian man becomes 2nd Goan resident to get citizenship under CAA\n",
      "‘Unable to pay school fees, scooter EMIs’: Odisha Mission Shakti workers demand release of remuneration\n",
      "India evacuates 75 of its citizens as rebels take over Syria\n",
      "Central forces to be deployed in Arunachal villages as strategic hydel project faces continued resistance\n",
      "8-year-old girl dies of ‘food poisoning’, 35 students of Chhattisgarh residential school fall ill\n",
      "CJI Khanna underlines need for reforms to promote compassionate, humane justice\n",
      "Two new buildings in Central Vista won’t have Patel’s design stamp\n",
      "No-trust move Opposition bid to divert from Soros issue: Rijiju\n",
      "Congress hits back: BJP raising Soros issue to save Adani\n",
      "Supreme Court refuses urgent hearing against HC decision over pooja at Guruvayur temple\n",
      "Rahul, Priyanka meet kin of Sambhal violence victims\n",
      "Shivraj Chouhan: 5.46 lakh additional houses in Bihar under PMAY-G\n",
      "Looks like RG Kar rape-murder trial to conclude in a month: SC\n",
      "Dec 10 to be celebrated as ‘Pravasi Rajasthani Divas’ every year: Rajasthan CM Sharma\n",
      "Opposition notice against Jagdeep Dhankar will be rejected: Kiren Rijiju\n",
      "‘India-Russia friendship higher than highest mountain, deeper than deepest ocean’: Rajnath Singh meets Vladimir Putin\n",
      "Assam has to learn from Israel on how to survive when surrounded by enemies: Himanta\n",
      "‘Nayan sekne jaa rahe hain’: Lalu sparks row with comments on Nitish yatra\n",
      "Tripura decks up to welcome Amit Shah, Jyotiraditya Scindia at 72nd NEC plenary meet\n",
      "Congress masks versus BRS T-shirts: In season of Adani protests, claims of copy-paste\n",
      "Amit Malviya’s remarks on Rahul’s banter with Gurdaspur MP draw ‘fake news factory’ retort\n",
      "Karnataka declares three-day state mourning: Will banks remain open on December 11 in Karnataka?\n"
     ]
    }
   ],
   "source": [
    "for x in soup.find_all('h2'):\n",
    "    print(x.text.strip())"
   ]
  },
  {
   "cell_type": "code",
   "execution_count": 7,
   "id": "fe935e81-a6c6-46cc-8394-a435aa300150",
   "metadata": {},
   "outputs": [],
   "source": [
    "# Initialize an empty list to store the extracted news headlines\n",
    "News_statement = []\n",
    "\n",
    "# Loop through all <h2> tags and extract the text\n",
    "for x in soup.find_all('h2'):\n",
    "    # Extract text and remove leading/trailing spaces\n",
    "    News_statement.append(x.text.strip())"
   ]
  },
  {
   "cell_type": "code",
   "execution_count": 8,
   "id": "6ff72f7a-e99e-4db7-be28-bb703e827b76",
   "metadata": {},
   "outputs": [
    {
     "data": {
      "text/plain": [
       "['Modi government believes in democratising technology: IT Minister Ashwini Vaishnaw in Lok Sabha',\n",
       " 'Parliament Winter Session LIVE Updates: Uproar in both Houses of Parliament amid Centre-Oppn faceoff over Dhankhar removal, Cong-Soros link',\n",
       " 'Remove Nishikant Dubey’s defamatory, unparliamentary remarks from record: Congress to Om Birla',\n",
       " '‘Happy I’m an Indian now’: Pakistan-born Christian man becomes 2nd Goan resident to get citizenship under CAA',\n",
       " '‘Unable to pay school fees, scooter EMIs’: Odisha Mission Shakti workers demand release of remuneration',\n",
       " 'India evacuates 75 of its citizens as rebels take over Syria',\n",
       " 'Central forces to be deployed in Arunachal villages as strategic hydel project faces continued resistance',\n",
       " '8-year-old girl dies of ‘food poisoning’, 35 students of Chhattisgarh residential school fall ill',\n",
       " 'CJI Khanna underlines need for reforms to promote compassionate, humane justice',\n",
       " 'Two new buildings in Central Vista won’t have Patel’s design stamp',\n",
       " 'No-trust move Opposition bid to divert from Soros issue: Rijiju',\n",
       " 'Congress hits back: BJP raising Soros issue to save Adani',\n",
       " 'Supreme Court refuses urgent hearing against HC decision over pooja at Guruvayur temple',\n",
       " 'Rahul, Priyanka meet kin of Sambhal violence victims',\n",
       " 'Shivraj Chouhan: 5.46 lakh additional houses in Bihar under PMAY-G',\n",
       " 'Looks like RG Kar rape-murder trial to conclude in a month: SC',\n",
       " 'Dec 10 to be celebrated as ‘Pravasi Rajasthani Divas’ every year: Rajasthan CM Sharma',\n",
       " 'Opposition notice against Jagdeep Dhankar will be rejected: Kiren Rijiju',\n",
       " '‘India-Russia friendship higher than highest mountain, deeper than deepest ocean’: Rajnath Singh meets Vladimir Putin',\n",
       " 'Assam has to learn from Israel on how to survive when surrounded by enemies: Himanta',\n",
       " '‘Nayan sekne jaa rahe hain’: Lalu sparks row with comments on Nitish yatra',\n",
       " 'Tripura decks up to welcome Amit Shah, Jyotiraditya Scindia at 72nd NEC plenary meet',\n",
       " 'Congress masks versus BRS T-shirts: In season of Adani protests, claims of copy-paste',\n",
       " 'Amit Malviya’s remarks on Rahul’s banter with Gurdaspur MP draw ‘fake news factory’ retort',\n",
       " 'Karnataka declares three-day state mourning: Will banks remain open on December 11 in Karnataka?']"
      ]
     },
     "execution_count": 8,
     "metadata": {},
     "output_type": "execute_result"
    }
   ],
   "source": [
    "News_statement"
   ]
  },
  {
   "cell_type": "code",
   "execution_count": 9,
   "id": "c8bf319d-bbc7-4057-81d4-b1c929cfb564",
   "metadata": {},
   "outputs": [],
   "source": [
    "# Create a new list 'category' with the same length as News_statement\n",
    "News_Category = ['India'] * len(News_statement)"
   ]
  },
  {
   "cell_type": "code",
   "execution_count": 10,
   "id": "ee206a45-2f43-4c14-93cf-b5c2a95dc438",
   "metadata": {},
   "outputs": [
    {
     "data": {
      "text/plain": [
       "['India',\n",
       " 'India',\n",
       " 'India',\n",
       " 'India',\n",
       " 'India',\n",
       " 'India',\n",
       " 'India',\n",
       " 'India',\n",
       " 'India',\n",
       " 'India',\n",
       " 'India',\n",
       " 'India',\n",
       " 'India',\n",
       " 'India',\n",
       " 'India',\n",
       " 'India',\n",
       " 'India',\n",
       " 'India',\n",
       " 'India',\n",
       " 'India',\n",
       " 'India',\n",
       " 'India',\n",
       " 'India',\n",
       " 'India',\n",
       " 'India']"
      ]
     },
     "execution_count": 10,
     "metadata": {},
     "output_type": "execute_result"
    }
   ],
   "source": [
    "News_Category"
   ]
  },
  {
   "cell_type": "markdown",
   "id": "4f462d9e-f4c7-437d-95ea-5843731ebbe3",
   "metadata": {},
   "source": [
    "# A Function that takes two arguments A link for scrapping and a news category And Performs all the above operation For Multiple Links"
   ]
  },
  {
   "cell_type": "code",
   "execution_count": 11,
   "id": "be22d88d-ff5f-40dc-a2fe-af9bc01282eb",
   "metadata": {},
   "outputs": [
    {
     "name": "stdin",
     "output_type": "stream",
     "text": [
      "Enter multiple URLs (comma-separated):  https://indianexpress.com/section/india/,https://indianexpress.com/section/india/page/2/,https://indianexpress.com/section/india/page/3/,https://indianexpress.com/section/india/page/4/,https://indianexpress.com/section/india/page/5/,https://indianexpress.com/section/india/page/6/,https://indianexpress.com/section/india/page/7/,https://indianexpress.com/section/india/page/8/,https://indianexpress.com/section/india/page/9/,https://indianexpress.com/section/india/page/10/,https://indianexpress.com/section/india/page/11/,https://indianexpress.com/section/india/page/12/,https://indianexpress.com/section/india/page/13/,https://indianexpress.com/section/india/page/14/,https://indianexpress.com/section/india/page/15/,https://indianexpress.com/section/india/page/16/,https://indianexpress.com/section/india/page/17/,https://indianexpress.com/section/india/page/18/,https://indianexpress.com/section/india/page/19/,https://indianexpress.com/section/india/page/20,https://indianexpress.com/section/india/page/21/,https://indianexpress.com/section/india/page/22/,https://indianexpress.com/section/india/page/23/,https://indianexpress.com/section/india/page/24/,https://indianexpress.com/section/india/page/25/,https://indianexpress.com/section/india/page/26/,https://indianexpress.com/section/india/page/27/,https://indianexpress.com/section/india/page/28/,https://indianexpress.com/section/india/page/29/,https://indianexpress.com/section/india/page/30/\n",
      "Enter the category for the news (e.g., Sports, India, etc.):  India\n"
     ]
    },
    {
     "name": "stdout",
     "output_type": "stream",
     "text": [
      "Successfully fetched the webpage from https://indianexpress.com/section/india/!\n",
      "Successfully fetched the webpage from https://indianexpress.com/section/india/page/2/!\n",
      "Successfully fetched the webpage from https://indianexpress.com/section/india/page/3/!\n",
      "Successfully fetched the webpage from https://indianexpress.com/section/india/page/4/!\n",
      "Successfully fetched the webpage from https://indianexpress.com/section/india/page/5/!\n",
      "Successfully fetched the webpage from https://indianexpress.com/section/india/page/6/!\n",
      "Successfully fetched the webpage from https://indianexpress.com/section/india/page/7/!\n",
      "Successfully fetched the webpage from https://indianexpress.com/section/india/page/8/!\n",
      "Successfully fetched the webpage from https://indianexpress.com/section/india/page/9/!\n",
      "Successfully fetched the webpage from https://indianexpress.com/section/india/page/10/!\n",
      "Successfully fetched the webpage from https://indianexpress.com/section/india/page/11/!\n",
      "Successfully fetched the webpage from https://indianexpress.com/section/india/page/12/!\n",
      "Successfully fetched the webpage from https://indianexpress.com/section/india/page/13/!\n",
      "Successfully fetched the webpage from https://indianexpress.com/section/india/page/14/!\n",
      "Successfully fetched the webpage from https://indianexpress.com/section/india/page/15/!\n",
      "Successfully fetched the webpage from https://indianexpress.com/section/india/page/16/!\n",
      "Successfully fetched the webpage from https://indianexpress.com/section/india/page/17/!\n",
      "Successfully fetched the webpage from https://indianexpress.com/section/india/page/18/!\n",
      "Successfully fetched the webpage from https://indianexpress.com/section/india/page/19/!\n",
      "Successfully fetched the webpage from https://indianexpress.com/section/india/page/20!\n",
      "Successfully fetched the webpage from https://indianexpress.com/section/india/page/21/!\n",
      "Successfully fetched the webpage from https://indianexpress.com/section/india/page/22/!\n",
      "Successfully fetched the webpage from https://indianexpress.com/section/india/page/23/!\n",
      "Successfully fetched the webpage from https://indianexpress.com/section/india/page/24/!\n",
      "Successfully fetched the webpage from https://indianexpress.com/section/india/page/25/!\n",
      "Successfully fetched the webpage from https://indianexpress.com/section/india/page/26/!\n",
      "Successfully fetched the webpage from https://indianexpress.com/section/india/page/27/!\n",
      "Successfully fetched the webpage from https://indianexpress.com/section/india/page/28/!\n",
      "Successfully fetched the webpage from https://indianexpress.com/section/india/page/29/!\n",
      "Successfully fetched the webpage from https://indianexpress.com/section/india/page/30/!\n",
      "                                         News_Headline Category\n",
      "0    Modi government believes in democratising tech...    India\n",
      "1    Parliament Winter Session LIVE Updates: Uproar...    India\n",
      "2    Remove Nishikant Dubey’s defamatory, unparliam...    India\n",
      "3    ‘Happy I’m an Indian now’: Pakistan-born Chris...    India\n",
      "4    ‘Unable to pay school fees, scooter EMIs’: Odi...    India\n",
      "..                                                 ...      ...\n",
      "745  Jaishankar and Wang discuss next steps: resump...    India\n",
      "746  LIC website defaults to Hindi, Tamil Nadu CM S...    India\n",
      "747  Embassy confirms: US officials met Indian agen...    India\n",
      "748  Suspension on broadband services lifted in Man...    India\n",
      "749  Mallikarjun Kharge urges President Murmu’s int...    India\n",
      "\n",
      "[750 rows x 2 columns]\n"
     ]
    }
   ],
   "source": [
    "def fetch_news_and_category(urls, category):\n",
    "    # Initialize an empty list to store all the news headlines and categories\n",
    "    all_news_statements = []\n",
    "    all_news_categories = []\n",
    "\n",
    "    # Loop through all the URLs\n",
    "    for url in urls:\n",
    "        # Fetch the webpage content\n",
    "        response = requests.get(url)\n",
    "        if response.status_code == 200:\n",
    "            print(f\"Successfully fetched the webpage from {url}!\")\n",
    "        else:\n",
    "            print(f\"Failed to fetch the webpage from {url}. Status code: {response.status_code}\")\n",
    "            continue\n",
    "        \n",
    "        # Parse the HTML content with BeautifulSoup\n",
    "        soup = BeautifulSoup(response.text, 'html.parser')\n",
    "\n",
    "        # Loop through all <h2> tags and extract the text\n",
    "        for x in soup.find_all('h2'):\n",
    "            # Extract text and remove leading/trailing spaces\n",
    "            all_news_statements.append(x.text.strip())\n",
    "            # Append the category for each headline\n",
    "            all_news_categories.append(category)\n",
    "\n",
    "    # Ensure the lengths match\n",
    "    if len(all_news_statements) == len(all_news_categories):\n",
    "        # Create a DataFrame with all the news headlines and categories\n",
    "        news_df = pd.DataFrame({\n",
    "            'News_Headline': all_news_statements,\n",
    "            'Category': all_news_categories\n",
    "        })\n",
    "        return news_df\n",
    "    else:\n",
    "        print(\"Error: The lengths of the news headlines and categories do not match.\")\n",
    "        return None\n",
    "\n",
    "# Ask the user for multiple URLs\n",
    "urls_input = input(\"Enter multiple URLs (comma-separated): \").split(',')\n",
    "\n",
    "# Ask for the category (e.g., Sports, India, etc.)\n",
    "category_input = input(\"Enter the category for the news (e.g., Sports, India, etc.): \")\n",
    "\n",
    "# Call the function with user inputs\n",
    "news_df = fetch_news_and_category(urls_input, category_input)\n",
    "\n",
    "# Print the resulting DataFrame\n",
    "if news_df is not None:\n",
    "    print(news_df)"
   ]
  },
  {
   "cell_type": "code",
   "execution_count": 17,
   "id": "69b5f5b1-d7cd-4012-ace2-8434c84e8dbc",
   "metadata": {},
   "outputs": [
    {
     "data": {
      "text/plain": [
       "(750, 2)"
      ]
     },
     "execution_count": 17,
     "metadata": {},
     "output_type": "execute_result"
    }
   ],
   "source": [
    "news_df.shape"
   ]
  },
  {
   "cell_type": "markdown",
   "id": "7730cbbe-b664-4340-b80e-09b068fd3af5",
   "metadata": {},
   "source": [
    "## Function Call For Political News"
   ]
  },
  {
   "cell_type": "code",
   "execution_count": 18,
   "id": "903359c0-b8f4-4ccb-ad09-f4b31f89721b",
   "metadata": {},
   "outputs": [
    {
     "name": "stdin",
     "output_type": "stream",
     "text": [
      "Enter multiple URLs (comma-separated):  https://indianexpress.com/section/political-pulse/,https://indianexpress.com/section/political-pulse/page/2/,https://indianexpress.com/section/political-pulse/page/3/,https://indianexpress.com/section/political-pulse/page/4/,https://indianexpress.com/section/political-pulse/page/5/,https://indianexpress.com/section/political-pulse/page/6/,https://indianexpress.com/section/political-pulse/page/7/,https://indianexpress.com/section/political-pulse/page/8/,https://indianexpress.com/section/political-pulse/page/9/,https://indianexpress.com/section/political-pulse/page/10/,https://indianexpress.com/section/political-pulse/page/11/,https://indianexpress.com/section/political-pulse/page/12/,https://indianexpress.com/section/political-pulse/page/13/,https://indianexpress.com/section/political-pulse/page/14/,https://indianexpress.com/section/political-pulse/page/15/,https://indianexpress.com/section/political-pulse/page/16/,https://indianexpress.com/section/political-pulse/page/17/,https://indianexpress.com/section/political-pulse/page/18/,https://indianexpress.com/section/political-pulse/page/19/,https://indianexpress.com/section/political-pulse/page/20/,https://indianexpress.com/section/political-pulse/page/21/,https://indianexpress.com/section/political-pulse/page/22/,https://indianexpress.com/section/political-pulse/page/23/,https://indianexpress.com/section/political-pulse/page/24/,https://indianexpress.com/section/political-pulse/page/25/,https://indianexpress.com/section/political-pulse/page/26/,https://indianexpress.com/section/political-pulse/page/27/,https://indianexpress.com/section/political-pulse/page/28/,https://indianexpress.com/section/political-pulse/page/29/,https://indianexpress.com/section/political-pulse/page/30/\n",
      "Enter the category for the news (e.g., Sports, India, etc.):  political\n"
     ]
    },
    {
     "name": "stdout",
     "output_type": "stream",
     "text": [
      "Successfully fetched the webpage from https://indianexpress.com/section/political-pulse/!\n",
      "Successfully fetched the webpage from https://indianexpress.com/section/political-pulse/page/2/!\n",
      "Successfully fetched the webpage from https://indianexpress.com/section/political-pulse/page/3/!\n",
      "Successfully fetched the webpage from https://indianexpress.com/section/political-pulse/page/4/!\n",
      "Successfully fetched the webpage from https://indianexpress.com/section/political-pulse/page/5/!\n",
      "Successfully fetched the webpage from https://indianexpress.com/section/political-pulse/page/6/!\n",
      "Successfully fetched the webpage from https://indianexpress.com/section/political-pulse/page/7/!\n",
      "Successfully fetched the webpage from https://indianexpress.com/section/political-pulse/page/8/!\n",
      "Successfully fetched the webpage from https://indianexpress.com/section/political-pulse/page/9/!\n",
      "Successfully fetched the webpage from https://indianexpress.com/section/political-pulse/page/10/!\n",
      "Successfully fetched the webpage from https://indianexpress.com/section/political-pulse/page/11/!\n",
      "Successfully fetched the webpage from https://indianexpress.com/section/political-pulse/page/12/!\n",
      "Successfully fetched the webpage from https://indianexpress.com/section/political-pulse/page/13/!\n",
      "Successfully fetched the webpage from https://indianexpress.com/section/political-pulse/page/14/!\n",
      "Successfully fetched the webpage from https://indianexpress.com/section/political-pulse/page/15/!\n",
      "Successfully fetched the webpage from https://indianexpress.com/section/political-pulse/page/16/!\n",
      "Successfully fetched the webpage from https://indianexpress.com/section/political-pulse/page/17/!\n",
      "Successfully fetched the webpage from https://indianexpress.com/section/political-pulse/page/18/!\n",
      "Successfully fetched the webpage from https://indianexpress.com/section/political-pulse/page/19/!\n",
      "Successfully fetched the webpage from https://indianexpress.com/section/political-pulse/page/20/!\n",
      "Successfully fetched the webpage from https://indianexpress.com/section/political-pulse/page/21/!\n",
      "Successfully fetched the webpage from https://indianexpress.com/section/political-pulse/page/22/!\n",
      "Successfully fetched the webpage from https://indianexpress.com/section/political-pulse/page/23/!\n",
      "Successfully fetched the webpage from https://indianexpress.com/section/political-pulse/page/24/!\n",
      "Successfully fetched the webpage from https://indianexpress.com/section/political-pulse/page/25/!\n",
      "Successfully fetched the webpage from https://indianexpress.com/section/political-pulse/page/26/!\n",
      "Successfully fetched the webpage from https://indianexpress.com/section/political-pulse/page/27/!\n",
      "Successfully fetched the webpage from https://indianexpress.com/section/political-pulse/page/28/!\n",
      "Successfully fetched the webpage from https://indianexpress.com/section/political-pulse/page/29/!\n",
      "Successfully fetched the webpage from https://indianexpress.com/section/political-pulse/page/30/!\n"
     ]
    }
   ],
   "source": [
    "# Ask the user for multiple URLs\n",
    "urls_input = input(\"Enter multiple URLs (comma-separated): \").split(',')\n",
    "\n",
    "# Ask for the category (e.g., Sports, India, etc.)\n",
    "category_input = input(\"Enter the category for the news (e.g., Sports, India, etc.): \")\n",
    "\n",
    "# Call the function with user inputs\n",
    "sports = fetch_news_and_category(urls_input, category_input)\n"
   ]
  },
  {
   "cell_type": "code",
   "execution_count": 19,
   "id": "b31a5a52-9cfd-4553-8c71-74ebd6b41a7e",
   "metadata": {},
   "outputs": [
    {
     "data": {
      "text/html": [
       "<div>\n",
       "<style scoped>\n",
       "    .dataframe tbody tr th:only-of-type {\n",
       "        vertical-align: middle;\n",
       "    }\n",
       "\n",
       "    .dataframe tbody tr th {\n",
       "        vertical-align: top;\n",
       "    }\n",
       "\n",
       "    .dataframe thead th {\n",
       "        text-align: right;\n",
       "    }\n",
       "</style>\n",
       "<table border=\"1\" class=\"dataframe\">\n",
       "  <thead>\n",
       "    <tr style=\"text-align: right;\">\n",
       "      <th></th>\n",
       "      <th>News_Headline</th>\n",
       "      <th>Category</th>\n",
       "    </tr>\n",
       "  </thead>\n",
       "  <tbody>\n",
       "    <tr>\n",
       "      <th>0</th>\n",
       "      <td>DMK ally in choppy waters as gamble on ‘lotter...</td>\n",
       "      <td>political</td>\n",
       "    </tr>\n",
       "    <tr>\n",
       "      <th>1</th>\n",
       "      <td>S M Krishna’s journey, from ‘Texas Gowda’ to ‘...</td>\n",
       "      <td>political</td>\n",
       "    </tr>\n",
       "    <tr>\n",
       "      <th>2</th>\n",
       "      <td>A bank election under Central forces cover: Be...</td>\n",
       "      <td>political</td>\n",
       "    </tr>\n",
       "    <tr>\n",
       "      <th>3</th>\n",
       "      <td>Why gap between votes secured, seats won in Ma...</td>\n",
       "      <td>political</td>\n",
       "    </tr>\n",
       "    <tr>\n",
       "      <th>4</th>\n",
       "      <td>Today in Politics: Maharashtra Cabinet expansi...</td>\n",
       "      <td>political</td>\n",
       "    </tr>\n",
       "  </tbody>\n",
       "</table>\n",
       "</div>"
      ],
      "text/plain": [
       "                                       News_Headline   Category\n",
       "0  DMK ally in choppy waters as gamble on ‘lotter...  political\n",
       "1  S M Krishna’s journey, from ‘Texas Gowda’ to ‘...  political\n",
       "2  A bank election under Central forces cover: Be...  political\n",
       "3  Why gap between votes secured, seats won in Ma...  political\n",
       "4  Today in Politics: Maharashtra Cabinet expansi...  political"
      ]
     },
     "execution_count": 19,
     "metadata": {},
     "output_type": "execute_result"
    }
   ],
   "source": [
    "sports.head()"
   ]
  },
  {
   "cell_type": "code",
   "execution_count": 20,
   "id": "db33f07e-84de-49b9-87ce-d5d4ffb8978f",
   "metadata": {},
   "outputs": [
    {
     "data": {
      "text/plain": [
       "(750, 2)"
      ]
     },
     "execution_count": 20,
     "metadata": {},
     "output_type": "execute_result"
    }
   ],
   "source": [
    "sports.shape"
   ]
  },
  {
   "cell_type": "markdown",
   "id": "23afd5b2-9f6d-45f5-bc41-fe9e14d2f9c3",
   "metadata": {},
   "source": [
    "## Function call for Entertainment News"
   ]
  },
  {
   "cell_type": "code",
   "execution_count": 21,
   "id": "1ba154e2-2cc1-4034-b835-04e0aaed74d7",
   "metadata": {},
   "outputs": [
    {
     "name": "stdin",
     "output_type": "stream",
     "text": [
      "Enter multiple URLs (comma-separated):  https://indianexpress.com/section/entertainment/,https://indianexpress.com/section/entertainment/page/2/,https://indianexpress.com/section/entertainment/page/3/,https://indianexpress.com/section/entertainment/page/4/,https://indianexpress.com/section/entertainment/page/5/,https://indianexpress.com/section/entertainment/page/6/,https://indianexpress.com/section/entertainment/page/7/,https://indianexpress.com/section/entertainment/page/8/,https://indianexpress.com/section/entertainment/page/9/,https://indianexpress.com/section/entertainment/page/10/,https://indianexpress.com/section/entertainment/page/11/,https://indianexpress.com/section/entertainment/page/12/,https://indianexpress.com/section/entertainment/page/13/,https://indianexpress.com/section/entertainment/page/14/,https://indianexpress.com/section/entertainment/page/15/,https://indianexpress.com/section/entertainment/page/16/,https://indianexpress.com/section/entertainment/page/17/,https://indianexpress.com/section/entertainment/page/18/,https://indianexpress.com/section/entertainment/page/19/,https://indianexpress.com/section/entertainment/page/20/,https://indianexpress.com/section/entertainment/page/21/,https://indianexpress.com/section/entertainment/page/22/,https://indianexpress.com/section/entertainment/page/23/,https://indianexpress.com/section/entertainment/page/24/,https://indianexpress.com/section/entertainment/page/25/,https://indianexpress.com/section/entertainment/page/26/,https://indianexpress.com/section/entertainment/page/27/,https://indianexpress.com/section/entertainment/page/28/,https://indianexpress.com/section/entertainment/page/29/,https://indianexpress.com/section/entertainment/page/30/\n",
      "Enter the category for the news (e.g., Sports, India, etc.):  entertainment\n"
     ]
    },
    {
     "name": "stdout",
     "output_type": "stream",
     "text": [
      "Successfully fetched the webpage from https://indianexpress.com/section/entertainment/!\n",
      "Successfully fetched the webpage from https://indianexpress.com/section/entertainment/page/2/!\n",
      "Successfully fetched the webpage from https://indianexpress.com/section/entertainment/page/3/!\n",
      "Successfully fetched the webpage from https://indianexpress.com/section/entertainment/page/4/!\n",
      "Successfully fetched the webpage from https://indianexpress.com/section/entertainment/page/5/!\n",
      "Successfully fetched the webpage from https://indianexpress.com/section/entertainment/page/6/!\n",
      "Successfully fetched the webpage from https://indianexpress.com/section/entertainment/page/7/!\n",
      "Successfully fetched the webpage from https://indianexpress.com/section/entertainment/page/8/!\n",
      "Successfully fetched the webpage from https://indianexpress.com/section/entertainment/page/9/!\n",
      "Successfully fetched the webpage from https://indianexpress.com/section/entertainment/page/10/!\n",
      "Successfully fetched the webpage from https://indianexpress.com/section/entertainment/page/11/!\n",
      "Successfully fetched the webpage from https://indianexpress.com/section/entertainment/page/12/!\n",
      "Successfully fetched the webpage from https://indianexpress.com/section/entertainment/page/13/!\n",
      "Successfully fetched the webpage from https://indianexpress.com/section/entertainment/page/14/!\n",
      "Successfully fetched the webpage from https://indianexpress.com/section/entertainment/page/15/!\n",
      "Successfully fetched the webpage from https://indianexpress.com/section/entertainment/page/16/!\n",
      "Successfully fetched the webpage from https://indianexpress.com/section/entertainment/page/17/!\n",
      "Successfully fetched the webpage from https://indianexpress.com/section/entertainment/page/18/!\n",
      "Successfully fetched the webpage from https://indianexpress.com/section/entertainment/page/19/!\n",
      "Successfully fetched the webpage from https://indianexpress.com/section/entertainment/page/20/!\n",
      "Successfully fetched the webpage from https://indianexpress.com/section/entertainment/page/21/!\n",
      "Successfully fetched the webpage from https://indianexpress.com/section/entertainment/page/22/!\n",
      "Successfully fetched the webpage from https://indianexpress.com/section/entertainment/page/23/!\n",
      "Successfully fetched the webpage from https://indianexpress.com/section/entertainment/page/24/!\n",
      "Successfully fetched the webpage from https://indianexpress.com/section/entertainment/page/25/!\n",
      "Successfully fetched the webpage from https://indianexpress.com/section/entertainment/page/26/!\n",
      "Successfully fetched the webpage from https://indianexpress.com/section/entertainment/page/27/!\n",
      "Successfully fetched the webpage from https://indianexpress.com/section/entertainment/page/28/!\n",
      "Successfully fetched the webpage from https://indianexpress.com/section/entertainment/page/29/!\n",
      "Successfully fetched the webpage from https://indianexpress.com/section/entertainment/page/30/!\n"
     ]
    }
   ],
   "source": [
    "# Ask the user for multiple URLs\n",
    "urls_input = input(\"Enter multiple URLs (comma-separated): \").split(',')\n",
    "\n",
    "# Ask for the category (e.g., Sports, India, etc.)\n",
    "category_input = input(\"Enter the category for the news (e.g., Sports, India, etc.): \")\n",
    "\n",
    "# Call the function with user inputs\n",
    "Entertainment = fetch_news_and_category(urls_input, category_input)"
   ]
  },
  {
   "cell_type": "code",
   "execution_count": 22,
   "id": "9752d3c9-4d57-4714-aed2-bd4079ea5bed",
   "metadata": {},
   "outputs": [
    {
     "data": {
      "text/html": [
       "<div>\n",
       "<style scoped>\n",
       "    .dataframe tbody tr th:only-of-type {\n",
       "        vertical-align: middle;\n",
       "    }\n",
       "\n",
       "    .dataframe tbody tr th {\n",
       "        vertical-align: top;\n",
       "    }\n",
       "\n",
       "    .dataframe thead th {\n",
       "        text-align: right;\n",
       "    }\n",
       "</style>\n",
       "<table border=\"1\" class=\"dataframe\">\n",
       "  <thead>\n",
       "    <tr style=\"text-align: right;\">\n",
       "      <th></th>\n",
       "      <th>News_Headline</th>\n",
       "      <th>Category</th>\n",
       "    </tr>\n",
       "  </thead>\n",
       "  <tbody>\n",
       "    <tr>\n",
       "      <th>0</th>\n",
       "      <td>Stree 2 actor Mushtaq Khan kidnapped days afte...</td>\n",
       "      <td>entertainment</td>\n",
       "    </tr>\n",
       "    <tr>\n",
       "      <th>1</th>\n",
       "      <td>Shabana Azmi recalls shooting ‘awkward’ intima...</td>\n",
       "      <td>entertainment</td>\n",
       "    </tr>\n",
       "    <tr>\n",
       "      <th>2</th>\n",
       "      <td>Ranveer Singh’s mother Anju donates hair as De...</td>\n",
       "      <td>entertainment</td>\n",
       "    </tr>\n",
       "    <tr>\n",
       "      <th>3</th>\n",
       "      <td>Exclusive | Sunny Deol confirms working in Nit...</td>\n",
       "      <td>entertainment</td>\n",
       "    </tr>\n",
       "    <tr>\n",
       "      <th>4</th>\n",
       "      <td>Pushpa 2 worldwide box office collection Day 5...</td>\n",
       "      <td>entertainment</td>\n",
       "    </tr>\n",
       "  </tbody>\n",
       "</table>\n",
       "</div>"
      ],
      "text/plain": [
       "                                       News_Headline       Category\n",
       "0  Stree 2 actor Mushtaq Khan kidnapped days afte...  entertainment\n",
       "1  Shabana Azmi recalls shooting ‘awkward’ intima...  entertainment\n",
       "2  Ranveer Singh’s mother Anju donates hair as De...  entertainment\n",
       "3  Exclusive | Sunny Deol confirms working in Nit...  entertainment\n",
       "4  Pushpa 2 worldwide box office collection Day 5...  entertainment"
      ]
     },
     "execution_count": 22,
     "metadata": {},
     "output_type": "execute_result"
    }
   ],
   "source": [
    "Entertainment.head()"
   ]
  },
  {
   "cell_type": "markdown",
   "id": "5b33cc67-8069-4859-8a92-24ffd5ce2f92",
   "metadata": {},
   "source": [
    "## For Business Related News"
   ]
  },
  {
   "cell_type": "code",
   "execution_count": 23,
   "id": "2d9ea374-9b83-419e-8d28-982445f3f871",
   "metadata": {},
   "outputs": [
    {
     "name": "stdin",
     "output_type": "stream",
     "text": [
      "Enter multiple URLs (comma-separated):  https://indianexpress.com/section/business/,https://indianexpress.com/section/business/page/2/,https://indianexpress.com/section/business/page/3/,https://indianexpress.com/section/business/page/4/,https://indianexpress.com/section/business/page/5/,https://indianexpress.com/section/business/page/6/,https://indianexpress.com/section/business/page/7/,https://indianexpress.com/section/business/page/8/,https://indianexpress.com/section/business/page/9/,https://indianexpress.com/section/business/page/10/,https://indianexpress.com/section/business/page/11/,https://indianexpress.com/section/business/page/12/,https://indianexpress.com/section/business/page/13/,https://indianexpress.com/section/business/page/14/,https://indianexpress.com/section/business/page/15/,https://indianexpress.com/section/business/page/16/,https://indianexpress.com/section/business/page/17/,https://indianexpress.com/section/business/page/18/,https://indianexpress.com/section/business/page/19/,https://indianexpress.com/section/business/page/20/,https://indianexpress.com/section/business/page/21/,https://indianexpress.com/section/business/page/22/,https://indianexpress.com/section/business/page/23/,https://indianexpress.com/section/business/page/24/,https://indianexpress.com/section/business/page/25/,https://indianexpress.com/section/business/page/26/,https://indianexpress.com/section/business/page/27/,https://indianexpress.com/section/business/page/28/,https://indianexpress.com/section/business/page/29/,https://indianexpress.com/section/business/page/30/\n",
      "Enter the category for the news (e.g., Sports, India, etc.):  business\n"
     ]
    },
    {
     "name": "stdout",
     "output_type": "stream",
     "text": [
      "Successfully fetched the webpage from https://indianexpress.com/section/business/!\n",
      "Successfully fetched the webpage from https://indianexpress.com/section/business/page/2/!\n",
      "Successfully fetched the webpage from https://indianexpress.com/section/business/page/3/!\n",
      "Successfully fetched the webpage from https://indianexpress.com/section/business/page/4/!\n",
      "Successfully fetched the webpage from https://indianexpress.com/section/business/page/5/!\n",
      "Successfully fetched the webpage from https://indianexpress.com/section/business/page/6/!\n",
      "Successfully fetched the webpage from https://indianexpress.com/section/business/page/7/!\n",
      "Successfully fetched the webpage from https://indianexpress.com/section/business/page/8/!\n",
      "Successfully fetched the webpage from https://indianexpress.com/section/business/page/9/!\n",
      "Successfully fetched the webpage from https://indianexpress.com/section/business/page/10/!\n",
      "Successfully fetched the webpage from https://indianexpress.com/section/business/page/11/!\n",
      "Successfully fetched the webpage from https://indianexpress.com/section/business/page/12/!\n",
      "Successfully fetched the webpage from https://indianexpress.com/section/business/page/13/!\n",
      "Successfully fetched the webpage from https://indianexpress.com/section/business/page/14/!\n",
      "Successfully fetched the webpage from https://indianexpress.com/section/business/page/15/!\n",
      "Successfully fetched the webpage from https://indianexpress.com/section/business/page/16/!\n",
      "Successfully fetched the webpage from https://indianexpress.com/section/business/page/17/!\n",
      "Successfully fetched the webpage from https://indianexpress.com/section/business/page/18/!\n",
      "Successfully fetched the webpage from https://indianexpress.com/section/business/page/19/!\n",
      "Successfully fetched the webpage from https://indianexpress.com/section/business/page/20/!\n",
      "Successfully fetched the webpage from https://indianexpress.com/section/business/page/21/!\n",
      "Successfully fetched the webpage from https://indianexpress.com/section/business/page/22/!\n",
      "Successfully fetched the webpage from https://indianexpress.com/section/business/page/23/!\n",
      "Successfully fetched the webpage from https://indianexpress.com/section/business/page/24/!\n",
      "Successfully fetched the webpage from https://indianexpress.com/section/business/page/25/!\n",
      "Successfully fetched the webpage from https://indianexpress.com/section/business/page/26/!\n",
      "Successfully fetched the webpage from https://indianexpress.com/section/business/page/27/!\n",
      "Successfully fetched the webpage from https://indianexpress.com/section/business/page/28/!\n",
      "Successfully fetched the webpage from https://indianexpress.com/section/business/page/29/!\n",
      "Successfully fetched the webpage from https://indianexpress.com/section/business/page/30/!\n"
     ]
    }
   ],
   "source": [
    "# Ask the user for multiple URLs\n",
    "urls_input = input(\"Enter multiple URLs (comma-separated): \").split(',')\n",
    "\n",
    "# Ask for the category (e.g., Sports, India, etc.)\n",
    "category_input = input(\"Enter the category for the news (e.g., Sports, India, etc.): \")\n",
    "\n",
    "# Call the function with user inputs\n",
    "Business = fetch_news_and_category(urls_input, category_input)"
   ]
  },
  {
   "cell_type": "code",
   "execution_count": 24,
   "id": "33ecce62-d3bf-4fcb-906f-dd7156830f98",
   "metadata": {},
   "outputs": [
    {
     "data": {
      "text/html": [
       "<div>\n",
       "<style scoped>\n",
       "    .dataframe tbody tr th:only-of-type {\n",
       "        vertical-align: middle;\n",
       "    }\n",
       "\n",
       "    .dataframe tbody tr th {\n",
       "        vertical-align: top;\n",
       "    }\n",
       "\n",
       "    .dataframe thead th {\n",
       "        text-align: right;\n",
       "    }\n",
       "</style>\n",
       "<table border=\"1\" class=\"dataframe\">\n",
       "  <thead>\n",
       "    <tr style=\"text-align: right;\">\n",
       "      <th></th>\n",
       "      <th>News_Headline</th>\n",
       "      <th>Category</th>\n",
       "    </tr>\n",
       "  </thead>\n",
       "  <tbody>\n",
       "    <tr>\n",
       "      <th>0</th>\n",
       "      <td>One MobiKwik Systems IPO fully subscribed</td>\n",
       "      <td>business</td>\n",
       "    </tr>\n",
       "    <tr>\n",
       "      <th>1</th>\n",
       "      <td>Gold Rate Today, 11 December: Gold prices touc...</td>\n",
       "      <td>business</td>\n",
       "    </tr>\n",
       "    <tr>\n",
       "      <th>2</th>\n",
       "      <td>Industry should realign itself keeping politic...</td>\n",
       "      <td>business</td>\n",
       "    </tr>\n",
       "    <tr>\n",
       "      <th>3</th>\n",
       "      <td>RBI new Governor Sanjay Malhotra’s first agend...</td>\n",
       "      <td>business</td>\n",
       "    </tr>\n",
       "    <tr>\n",
       "      <th>4</th>\n",
       "      <td>Sensex, Nifty swing between high, lows in vola...</td>\n",
       "      <td>business</td>\n",
       "    </tr>\n",
       "  </tbody>\n",
       "</table>\n",
       "</div>"
      ],
      "text/plain": [
       "                                       News_Headline  Category\n",
       "0          One MobiKwik Systems IPO fully subscribed  business\n",
       "1  Gold Rate Today, 11 December: Gold prices touc...  business\n",
       "2  Industry should realign itself keeping politic...  business\n",
       "3  RBI new Governor Sanjay Malhotra’s first agend...  business\n",
       "4  Sensex, Nifty swing between high, lows in vola...  business"
      ]
     },
     "execution_count": 24,
     "metadata": {},
     "output_type": "execute_result"
    }
   ],
   "source": [
    "Business.head()"
   ]
  },
  {
   "cell_type": "markdown",
   "id": "4f9ce91d-d657-431c-8abd-e580f3f05177",
   "metadata": {},
   "source": [
    "## For Sports"
   ]
  },
  {
   "cell_type": "code",
   "execution_count": 25,
   "id": "dfd6ffe1-b286-4984-a5ad-696c64d15b1f",
   "metadata": {},
   "outputs": [
    {
     "name": "stdin",
     "output_type": "stream",
     "text": [
      "Enter multiple URLs (comma-separated):  https://indianexpress.com/section/sports/,https://indianexpress.com/section/sports/page/2/,https://indianexpress.com/section/sports/page/3/,https://indianexpress.com/section/sports/page/4/,https://indianexpress.com/section/sports/page/5/,https://indianexpress.com/section/sports/page/6/,https://indianexpress.com/section/sports/page/7/,https://indianexpress.com/section/sports/page/8/,https://indianexpress.com/section/sports/page/9/,https://indianexpress.com/section/sports/page/10/,https://indianexpress.com/section/sports/page/11/,https://indianexpress.com/section/sports/page/12/,https://indianexpress.com/section/sports/page/13/,https://indianexpress.com/section/sports/page/14/,https://indianexpress.com/section/sports/page/15/,https://indianexpress.com/section/sports/page/16/,https://indianexpress.com/section/sports/page/17/,https://indianexpress.com/section/sports/page/18/,https://indianexpress.com/section/sports/page/19/,https://indianexpress.com/section/sports/page/20/,https://indianexpress.com/section/sports/page/21/,https://indianexpress.com/section/sports/page/22/,https://indianexpress.com/section/sports/page/23/,https://indianexpress.com/section/sports/page/24/,https://indianexpress.com/section/sports/page/25/,https://indianexpress.com/section/sports/page/26/,https://indianexpress.com/section/sports/page/27/,https://indianexpress.com/section/sports/page/28/,https://indianexpress.com/section/sports/page/29/,https://indianexpress.com/section/sports/page/30/\n",
      "Enter the category for the news (e.g., Sports, India, etc.):  sports\n"
     ]
    },
    {
     "name": "stdout",
     "output_type": "stream",
     "text": [
      "Successfully fetched the webpage from https://indianexpress.com/section/sports/!\n",
      "Successfully fetched the webpage from https://indianexpress.com/section/sports/page/2/!\n",
      "Successfully fetched the webpage from https://indianexpress.com/section/sports/page/3/!\n",
      "Successfully fetched the webpage from https://indianexpress.com/section/sports/page/4/!\n",
      "Successfully fetched the webpage from https://indianexpress.com/section/sports/page/5/!\n",
      "Successfully fetched the webpage from https://indianexpress.com/section/sports/page/6/!\n",
      "Successfully fetched the webpage from https://indianexpress.com/section/sports/page/7/!\n",
      "Successfully fetched the webpage from https://indianexpress.com/section/sports/page/8/!\n",
      "Successfully fetched the webpage from https://indianexpress.com/section/sports/page/9/!\n",
      "Successfully fetched the webpage from https://indianexpress.com/section/sports/page/10/!\n",
      "Successfully fetched the webpage from https://indianexpress.com/section/sports/page/11/!\n",
      "Successfully fetched the webpage from https://indianexpress.com/section/sports/page/12/!\n",
      "Successfully fetched the webpage from https://indianexpress.com/section/sports/page/13/!\n",
      "Successfully fetched the webpage from https://indianexpress.com/section/sports/page/14/!\n",
      "Successfully fetched the webpage from https://indianexpress.com/section/sports/page/15/!\n",
      "Successfully fetched the webpage from https://indianexpress.com/section/sports/page/16/!\n",
      "Successfully fetched the webpage from https://indianexpress.com/section/sports/page/17/!\n",
      "Successfully fetched the webpage from https://indianexpress.com/section/sports/page/18/!\n",
      "Successfully fetched the webpage from https://indianexpress.com/section/sports/page/19/!\n",
      "Successfully fetched the webpage from https://indianexpress.com/section/sports/page/20/!\n",
      "Successfully fetched the webpage from https://indianexpress.com/section/sports/page/21/!\n",
      "Successfully fetched the webpage from https://indianexpress.com/section/sports/page/22/!\n",
      "Successfully fetched the webpage from https://indianexpress.com/section/sports/page/23/!\n",
      "Successfully fetched the webpage from https://indianexpress.com/section/sports/page/24/!\n",
      "Successfully fetched the webpage from https://indianexpress.com/section/sports/page/25/!\n",
      "Successfully fetched the webpage from https://indianexpress.com/section/sports/page/26/!\n",
      "Successfully fetched the webpage from https://indianexpress.com/section/sports/page/27/!\n",
      "Successfully fetched the webpage from https://indianexpress.com/section/sports/page/28/!\n",
      "Successfully fetched the webpage from https://indianexpress.com/section/sports/page/29/!\n",
      "Successfully fetched the webpage from https://indianexpress.com/section/sports/page/30/!\n"
     ]
    }
   ],
   "source": [
    "# Ask the user for multiple URLs\n",
    "urls_input = input(\"Enter multiple URLs (comma-separated): \").split(',')\n",
    "\n",
    "# Ask for the category (e.g., Sports, India, etc.)\n",
    "category_input = input(\"Enter the category for the news (e.g., Sports, India, etc.): \")\n",
    "\n",
    "# Call the function with user inputs\n",
    "sports_1 = fetch_news_and_category(urls_input, category_input)"
   ]
  },
  {
   "cell_type": "code",
   "execution_count": 26,
   "id": "662dae86-56db-459f-aa44-275b5e217a89",
   "metadata": {},
   "outputs": [
    {
     "data": {
      "text/html": [
       "<div>\n",
       "<style scoped>\n",
       "    .dataframe tbody tr th:only-of-type {\n",
       "        vertical-align: middle;\n",
       "    }\n",
       "\n",
       "    .dataframe tbody tr th {\n",
       "        vertical-align: top;\n",
       "    }\n",
       "\n",
       "    .dataframe thead th {\n",
       "        text-align: right;\n",
       "    }\n",
       "</style>\n",
       "<table border=\"1\" class=\"dataframe\">\n",
       "  <thead>\n",
       "    <tr style=\"text-align: right;\">\n",
       "      <th></th>\n",
       "      <th>News_Headline</th>\n",
       "      <th>Category</th>\n",
       "    </tr>\n",
       "  </thead>\n",
       "  <tbody>\n",
       "    <tr>\n",
       "      <th>0</th>\n",
       "      <td>India Women vs Australia Women 3rd ODI LIVE Ma...</td>\n",
       "      <td>sports</td>\n",
       "    </tr>\n",
       "    <tr>\n",
       "      <th>1</th>\n",
       "      <td>Treesa-Gayatri show sturdy defense, but run ou...</td>\n",
       "      <td>sports</td>\n",
       "    </tr>\n",
       "    <tr>\n",
       "      <th>2</th>\n",
       "      <td>The Hundred: How a prospective sponsorship dea...</td>\n",
       "      <td>sports</td>\n",
       "    </tr>\n",
       "    <tr>\n",
       "      <th>3</th>\n",
       "      <td>Google’s Year in Search: Hardik Pandya and Pun...</td>\n",
       "      <td>sports</td>\n",
       "    </tr>\n",
       "    <tr>\n",
       "      <th>4</th>\n",
       "      <td>What happens if Gukesh vs Ding Liren World Che...</td>\n",
       "      <td>sports</td>\n",
       "    </tr>\n",
       "  </tbody>\n",
       "</table>\n",
       "</div>"
      ],
      "text/plain": [
       "                                       News_Headline Category\n",
       "0  India Women vs Australia Women 3rd ODI LIVE Ma...   sports\n",
       "1  Treesa-Gayatri show sturdy defense, but run ou...   sports\n",
       "2  The Hundred: How a prospective sponsorship dea...   sports\n",
       "3  Google’s Year in Search: Hardik Pandya and Pun...   sports\n",
       "4  What happens if Gukesh vs Ding Liren World Che...   sports"
      ]
     },
     "execution_count": 26,
     "metadata": {},
     "output_type": "execute_result"
    }
   ],
   "source": [
    "sports_1.head()"
   ]
  },
  {
   "cell_type": "code",
   "execution_count": 27,
   "id": "7911e481-2e28-45dc-992c-eca5895994bf",
   "metadata": {},
   "outputs": [
    {
     "data": {
      "text/plain": [
       "(750, 2)"
      ]
     },
     "execution_count": 27,
     "metadata": {},
     "output_type": "execute_result"
    }
   ],
   "source": [
    "sports_1.shape"
   ]
  },
  {
   "cell_type": "code",
   "execution_count": 28,
   "id": "5aa7c479-19b4-4dbc-829d-651eae1c16c7",
   "metadata": {},
   "outputs": [
    {
     "name": "stdin",
     "output_type": "stream",
     "text": [
      "Enter multiple URLs (comma-separated):  https://indianexpress.com/section/cities/,https://indianexpress.com/section/cities/page/2/,https://indianexpress.com/section/cities/page/3/,https://indianexpress.com/section/cities/page/4/,https://indianexpress.com/section/cities/page/5/,https://indianexpress.com/section/cities/page/6/,https://indianexpress.com/section/cities/page/7/,https://indianexpress.com/section/cities/page/8/,https://indianexpress.com/section/cities/page/9/,https://indianexpress.com/section/cities/page/10/,https://indianexpress.com/section/cities/page/11/,https://indianexpress.com/section/cities/page/12/,https://indianexpress.com/section/cities/page/13/,https://indianexpress.com/section/cities/page/14/,https://indianexpress.com/section/cities/page/15/,https://indianexpress.com/section/cities/page/16/,https://indianexpress.com/section/cities/page/17/,https://indianexpress.com/section/cities/page/18/,https://indianexpress.com/section/cities/page/19/,https://indianexpress.com/section/cities/page/20/,https://indianexpress.com/section/cities/page/21/,https://indianexpress.com/section/cities/page/22/,https://indianexpress.com/section/cities/page/23/,https://indianexpress.com/section/cities/page/24/,https://indianexpress.com/section/cities/page/25/,https://indianexpress.com/section/cities/page/26/,https://indianexpress.com/section/cities/page/27/,https://indianexpress.com/section/cities/page/28/,https://indianexpress.com/section/cities/page/29/,https://indianexpress.com/section/cities/page/30/\n",
      "Enter the category for the news (e.g., Sports, India, etc.):  city\n"
     ]
    },
    {
     "name": "stdout",
     "output_type": "stream",
     "text": [
      "Successfully fetched the webpage from https://indianexpress.com/section/cities/!\n",
      "Successfully fetched the webpage from https://indianexpress.com/section/cities/page/2/!\n",
      "Successfully fetched the webpage from https://indianexpress.com/section/cities/page/3/!\n",
      "Successfully fetched the webpage from https://indianexpress.com/section/cities/page/4/!\n",
      "Successfully fetched the webpage from https://indianexpress.com/section/cities/page/5/!\n",
      "Successfully fetched the webpage from https://indianexpress.com/section/cities/page/6/!\n",
      "Successfully fetched the webpage from https://indianexpress.com/section/cities/page/7/!\n",
      "Successfully fetched the webpage from https://indianexpress.com/section/cities/page/8/!\n",
      "Successfully fetched the webpage from https://indianexpress.com/section/cities/page/9/!\n",
      "Successfully fetched the webpage from https://indianexpress.com/section/cities/page/10/!\n",
      "Successfully fetched the webpage from https://indianexpress.com/section/cities/page/11/!\n",
      "Successfully fetched the webpage from https://indianexpress.com/section/cities/page/12/!\n",
      "Successfully fetched the webpage from https://indianexpress.com/section/cities/page/13/!\n",
      "Successfully fetched the webpage from https://indianexpress.com/section/cities/page/14/!\n",
      "Successfully fetched the webpage from https://indianexpress.com/section/cities/page/15/!\n",
      "Successfully fetched the webpage from https://indianexpress.com/section/cities/page/16/!\n",
      "Successfully fetched the webpage from https://indianexpress.com/section/cities/page/17/!\n",
      "Successfully fetched the webpage from https://indianexpress.com/section/cities/page/18/!\n",
      "Successfully fetched the webpage from https://indianexpress.com/section/cities/page/19/!\n",
      "Successfully fetched the webpage from https://indianexpress.com/section/cities/page/20/!\n",
      "Successfully fetched the webpage from https://indianexpress.com/section/cities/page/21/!\n",
      "Successfully fetched the webpage from https://indianexpress.com/section/cities/page/22/!\n",
      "Successfully fetched the webpage from https://indianexpress.com/section/cities/page/23/!\n",
      "Successfully fetched the webpage from https://indianexpress.com/section/cities/page/24/!\n",
      "Successfully fetched the webpage from https://indianexpress.com/section/cities/page/25/!\n",
      "Successfully fetched the webpage from https://indianexpress.com/section/cities/page/26/!\n",
      "Successfully fetched the webpage from https://indianexpress.com/section/cities/page/27/!\n",
      "Successfully fetched the webpage from https://indianexpress.com/section/cities/page/28/!\n",
      "Successfully fetched the webpage from https://indianexpress.com/section/cities/page/29/!\n",
      "Successfully fetched the webpage from https://indianexpress.com/section/cities/page/30/!\n"
     ]
    }
   ],
   "source": [
    "# Ask the user for multiple URLs\n",
    "urls_input = input(\"Enter multiple URLs (comma-separated): \").split(',')\n",
    "\n",
    "# Ask for the category (e.g., Sports, India, etc.)\n",
    "category_input = input(\"Enter the category for the news (e.g., Sports, India, etc.): \")\n",
    "\n",
    "# Call the function with user inputs\n",
    "city = fetch_news_and_category(urls_input, category_input)"
   ]
  },
  {
   "cell_type": "code",
   "execution_count": 29,
   "id": "2eb46768-ca0b-4501-ba27-a4fa4bce2045",
   "metadata": {},
   "outputs": [
    {
     "data": {
      "text/html": [
       "<div>\n",
       "<style scoped>\n",
       "    .dataframe tbody tr th:only-of-type {\n",
       "        vertical-align: middle;\n",
       "    }\n",
       "\n",
       "    .dataframe tbody tr th {\n",
       "        vertical-align: top;\n",
       "    }\n",
       "\n",
       "    .dataframe thead th {\n",
       "        text-align: right;\n",
       "    }\n",
       "</style>\n",
       "<table border=\"1\" class=\"dataframe\">\n",
       "  <thead>\n",
       "    <tr style=\"text-align: right;\">\n",
       "      <th></th>\n",
       "      <th>News_Headline</th>\n",
       "      <th>Category</th>\n",
       "    </tr>\n",
       "  </thead>\n",
       "  <tbody>\n",
       "    <tr>\n",
       "      <th>0</th>\n",
       "      <td>Uproar in Parliament over George Soros, no-tru...</td>\n",
       "      <td>city</td>\n",
       "    </tr>\n",
       "    <tr>\n",
       "      <th>1</th>\n",
       "      <td>Former Maharashtra DGP Sanjay Pandey appears b...</td>\n",
       "      <td>city</td>\n",
       "    </tr>\n",
       "    <tr>\n",
       "      <th>2</th>\n",
       "      <td>Maharashtra medical university to send MBBS qu...</td>\n",
       "      <td>city</td>\n",
       "    </tr>\n",
       "    <tr>\n",
       "      <th>3</th>\n",
       "      <td>Pune airport sets new record with 204 flight m...</td>\n",
       "      <td>city</td>\n",
       "    </tr>\n",
       "    <tr>\n",
       "      <th>4</th>\n",
       "      <td>After setback in Assembly bypolls, Congress ge...</td>\n",
       "      <td>city</td>\n",
       "    </tr>\n",
       "  </tbody>\n",
       "</table>\n",
       "</div>"
      ],
      "text/plain": [
       "                                       News_Headline Category\n",
       "0  Uproar in Parliament over George Soros, no-tru...     city\n",
       "1  Former Maharashtra DGP Sanjay Pandey appears b...     city\n",
       "2  Maharashtra medical university to send MBBS qu...     city\n",
       "3  Pune airport sets new record with 204 flight m...     city\n",
       "4  After setback in Assembly bypolls, Congress ge...     city"
      ]
     },
     "execution_count": 29,
     "metadata": {},
     "output_type": "execute_result"
    }
   ],
   "source": [
    "city.head()"
   ]
  },
  {
   "cell_type": "code",
   "execution_count": 30,
   "id": "7b943b14-f4aa-4803-8881-c48d0c2e27db",
   "metadata": {},
   "outputs": [
    {
     "name": "stdin",
     "output_type": "stream",
     "text": [
      "Enter multiple URLs (comma-separated):  https://indianexpress.com/section/lifestyle/,https://indianexpress.com/section/lifestyle/page/2/,https://indianexpress.com/section/lifestyle/page/3/,https://indianexpress.com/section/lifestyle/page/4/,https://indianexpress.com/section/lifestyle/page/5/,https://indianexpress.com/section/lifestyle/page/6/,https://indianexpress.com/section/lifestyle/page/7/,https://indianexpress.com/section/lifestyle/page/8/,https://indianexpress.com/section/lifestyle/page/9/,https://indianexpress.com/section/lifestyle/page/10/,https://indianexpress.com/section/lifestyle/page/11/,https://indianexpress.com/section/lifestyle/page/12/,https://indianexpress.com/section/lifestyle/page/13/,https://indianexpress.com/section/lifestyle/page/14/,https://indianexpress.com/section/lifestyle/page/15/,https://indianexpress.com/section/lifestyle/page/16/,https://indianexpress.com/section/lifestyle/page/17/,https://indianexpress.com/section/lifestyle/page/18/,https://indianexpress.com/section/lifestyle/page/19/,https://indianexpress.com/section/lifestyle/page/20/,https://indianexpress.com/section/lifestyle/page/21/,https://indianexpress.com/section/lifestyle/page/22/,https://indianexpress.com/section/lifestyle/page/23/,https://indianexpress.com/section/lifestyle/page/24/,https://indianexpress.com/section/lifestyle/page/25/,https://indianexpress.com/section/lifestyle/page/26/,https://indianexpress.com/section/lifestyle/page/27/,https://indianexpress.com/section/lifestyle/page/28/,https://indianexpress.com/section/lifestyle/page/29/,https://indianexpress.com/section/lifestyle/page/30/\n",
      "Enter the category for the news (e.g., Sports, India, etc.):  lifestyle\n"
     ]
    },
    {
     "name": "stdout",
     "output_type": "stream",
     "text": [
      "Successfully fetched the webpage from https://indianexpress.com/section/lifestyle/!\n",
      "Successfully fetched the webpage from https://indianexpress.com/section/lifestyle/page/2/!\n",
      "Successfully fetched the webpage from https://indianexpress.com/section/lifestyle/page/3/!\n",
      "Successfully fetched the webpage from https://indianexpress.com/section/lifestyle/page/4/!\n",
      "Successfully fetched the webpage from https://indianexpress.com/section/lifestyle/page/5/!\n",
      "Successfully fetched the webpage from https://indianexpress.com/section/lifestyle/page/6/!\n",
      "Successfully fetched the webpage from https://indianexpress.com/section/lifestyle/page/7/!\n",
      "Successfully fetched the webpage from https://indianexpress.com/section/lifestyle/page/8/!\n",
      "Successfully fetched the webpage from https://indianexpress.com/section/lifestyle/page/9/!\n",
      "Successfully fetched the webpage from https://indianexpress.com/section/lifestyle/page/10/!\n",
      "Successfully fetched the webpage from https://indianexpress.com/section/lifestyle/page/11/!\n",
      "Successfully fetched the webpage from https://indianexpress.com/section/lifestyle/page/12/!\n",
      "Successfully fetched the webpage from https://indianexpress.com/section/lifestyle/page/13/!\n",
      "Successfully fetched the webpage from https://indianexpress.com/section/lifestyle/page/14/!\n",
      "Successfully fetched the webpage from https://indianexpress.com/section/lifestyle/page/15/!\n",
      "Successfully fetched the webpage from https://indianexpress.com/section/lifestyle/page/16/!\n",
      "Successfully fetched the webpage from https://indianexpress.com/section/lifestyle/page/17/!\n",
      "Successfully fetched the webpage from https://indianexpress.com/section/lifestyle/page/18/!\n",
      "Successfully fetched the webpage from https://indianexpress.com/section/lifestyle/page/19/!\n",
      "Successfully fetched the webpage from https://indianexpress.com/section/lifestyle/page/20/!\n",
      "Successfully fetched the webpage from https://indianexpress.com/section/lifestyle/page/21/!\n",
      "Successfully fetched the webpage from https://indianexpress.com/section/lifestyle/page/22/!\n",
      "Successfully fetched the webpage from https://indianexpress.com/section/lifestyle/page/23/!\n",
      "Successfully fetched the webpage from https://indianexpress.com/section/lifestyle/page/24/!\n",
      "Successfully fetched the webpage from https://indianexpress.com/section/lifestyle/page/25/!\n",
      "Successfully fetched the webpage from https://indianexpress.com/section/lifestyle/page/26/!\n",
      "Successfully fetched the webpage from https://indianexpress.com/section/lifestyle/page/27/!\n",
      "Successfully fetched the webpage from https://indianexpress.com/section/lifestyle/page/28/!\n",
      "Successfully fetched the webpage from https://indianexpress.com/section/lifestyle/page/29/!\n",
      "Successfully fetched the webpage from https://indianexpress.com/section/lifestyle/page/30/!\n"
     ]
    }
   ],
   "source": [
    "# Ask the user for multiple URLs\n",
    "urls_input = input(\"Enter multiple URLs (comma-separated): \").split(',')\n",
    "\n",
    "# Ask for the category (e.g., Sports, India, etc.)\n",
    "category_input = input(\"Enter the category for the news (e.g., Sports, India, etc.): \")\n",
    "\n",
    "# Call the function with user inputs\n",
    "lifestyle = fetch_news_and_category(urls_input, category_input)"
   ]
  },
  {
   "cell_type": "code",
   "execution_count": 31,
   "id": "ef45d24f-1771-485c-b235-8a3aad93f347",
   "metadata": {},
   "outputs": [
    {
     "data": {
      "text/html": [
       "<div>\n",
       "<style scoped>\n",
       "    .dataframe tbody tr th:only-of-type {\n",
       "        vertical-align: middle;\n",
       "    }\n",
       "\n",
       "    .dataframe tbody tr th {\n",
       "        vertical-align: top;\n",
       "    }\n",
       "\n",
       "    .dataframe thead th {\n",
       "        text-align: right;\n",
       "    }\n",
       "</style>\n",
       "<table border=\"1\" class=\"dataframe\">\n",
       "  <thead>\n",
       "    <tr style=\"text-align: right;\">\n",
       "      <th></th>\n",
       "      <th>News_Headline</th>\n",
       "      <th>Category</th>\n",
       "    </tr>\n",
       "  </thead>\n",
       "  <tbody>\n",
       "    <tr>\n",
       "      <th>0</th>\n",
       "      <td>Indian cuisine declared 12th best in the world...</td>\n",
       "      <td>lifestyle</td>\n",
       "    </tr>\n",
       "    <tr>\n",
       "      <th>1</th>\n",
       "      <td>‘Ek hi baar kaafi hai’: Rekha shares her take ...</td>\n",
       "      <td>lifestyle</td>\n",
       "    </tr>\n",
       "    <tr>\n",
       "      <th>2</th>\n",
       "      <td>Can having one banana a day keep the doctor away?</td>\n",
       "      <td>lifestyle</td>\n",
       "    </tr>\n",
       "    <tr>\n",
       "      <th>3</th>\n",
       "      <td>Mark Zuckerberg’s watch — thinner than two sta...</td>\n",
       "      <td>lifestyle</td>\n",
       "    </tr>\n",
       "    <tr>\n",
       "      <th>4</th>\n",
       "      <td>People who are good at reading have different ...</td>\n",
       "      <td>lifestyle</td>\n",
       "    </tr>\n",
       "  </tbody>\n",
       "</table>\n",
       "</div>"
      ],
      "text/plain": [
       "                                       News_Headline   Category\n",
       "0  Indian cuisine declared 12th best in the world...  lifestyle\n",
       "1  ‘Ek hi baar kaafi hai’: Rekha shares her take ...  lifestyle\n",
       "2  Can having one banana a day keep the doctor away?  lifestyle\n",
       "3  Mark Zuckerberg’s watch — thinner than two sta...  lifestyle\n",
       "4  People who are good at reading have different ...  lifestyle"
      ]
     },
     "execution_count": 31,
     "metadata": {},
     "output_type": "execute_result"
    }
   ],
   "source": [
    "lifestyle.head()"
   ]
  },
  {
   "cell_type": "markdown",
   "id": "3d24b811-190e-473a-b088-09af3165d4af",
   "metadata": {},
   "source": [
    "## Function Change for Some webpages"
   ]
  },
  {
   "cell_type": "code",
   "execution_count": 36,
   "id": "fae1d4da-1f3f-4c09-81d2-b1fc62df6c2a",
   "metadata": {},
   "outputs": [
    {
     "name": "stdin",
     "output_type": "stream",
     "text": [
      "Enter multiple URLs (comma-separated):  https://indianexpress.com/section/world/,https://indianexpress.com/section/world/page/2/,https://indianexpress.com/section/world/page/3/,https://indianexpress.com/section/world/page/4/,https://indianexpress.com/section/world/page/5/,https://indianexpress.com/section/world/page/6/,https://indianexpress.com/section/world/page/7/,https://indianexpress.com/section/world/page/8/,https://indianexpress.com/section/world/page/9/,https://indianexpress.com/section/world/page/10/,https://indianexpress.com/section/world/page/11/,https://indianexpress.com/section/world/page/12/,https://indianexpress.com/section/world/page/13/,https://indianexpress.com/section/world/page/14/,https://indianexpress.com/section/world/page/15/,https://indianexpress.com/section/world/page/16/,https://indianexpress.com/section/world/page/17/,https://indianexpress.com/section/world/page/18/,https://indianexpress.com/section/world/page/19/,https://indianexpress.com/section/world/page/20/,https://indianexpress.com/section/world/page/21/,https://indianexpress.com/section/world/page/22/,https://indianexpress.com/section/world/page/23/,https://indianexpress.com/section/world/page/24/,https://indianexpress.com/section/world/page/25/,https://indianexpress.com/section/world/page/26/,https://indianexpress.com/section/world/page/27/,https://indianexpress.com/section/world/page/28/,https://indianexpress.com/section/world/page/29/,https://indianexpress.com/section/world/page/30/\n",
      "Enter the category for the news (e.g., Sports, India, etc.):  world\n"
     ]
    },
    {
     "name": "stdout",
     "output_type": "stream",
     "text": [
      "Successfully fetched the webpage from https://indianexpress.com/section/world/!\n",
      "Successfully fetched the webpage from https://indianexpress.com/section/world/page/2/!\n",
      "Successfully fetched the webpage from https://indianexpress.com/section/world/page/3/!\n",
      "Successfully fetched the webpage from https://indianexpress.com/section/world/page/4/!\n",
      "Successfully fetched the webpage from https://indianexpress.com/section/world/page/5/!\n",
      "Successfully fetched the webpage from https://indianexpress.com/section/world/page/6/!\n",
      "Successfully fetched the webpage from https://indianexpress.com/section/world/page/7/!\n",
      "Successfully fetched the webpage from https://indianexpress.com/section/world/page/8/!\n",
      "Successfully fetched the webpage from https://indianexpress.com/section/world/page/9/!\n",
      "Successfully fetched the webpage from https://indianexpress.com/section/world/page/10/!\n",
      "Successfully fetched the webpage from https://indianexpress.com/section/world/page/11/!\n",
      "Successfully fetched the webpage from https://indianexpress.com/section/world/page/12/!\n",
      "Successfully fetched the webpage from https://indianexpress.com/section/world/page/13/!\n",
      "Successfully fetched the webpage from https://indianexpress.com/section/world/page/14/!\n",
      "Successfully fetched the webpage from https://indianexpress.com/section/world/page/15/!\n",
      "Successfully fetched the webpage from https://indianexpress.com/section/world/page/16/!\n",
      "Successfully fetched the webpage from https://indianexpress.com/section/world/page/17/!\n",
      "Successfully fetched the webpage from https://indianexpress.com/section/world/page/18/!\n",
      "Successfully fetched the webpage from https://indianexpress.com/section/world/page/19/!\n",
      "Successfully fetched the webpage from https://indianexpress.com/section/world/page/20/!\n",
      "Successfully fetched the webpage from https://indianexpress.com/section/world/page/21/!\n",
      "Successfully fetched the webpage from https://indianexpress.com/section/world/page/22/!\n",
      "Successfully fetched the webpage from https://indianexpress.com/section/world/page/23/!\n",
      "Successfully fetched the webpage from https://indianexpress.com/section/world/page/24/!\n",
      "Successfully fetched the webpage from https://indianexpress.com/section/world/page/25/!\n",
      "Successfully fetched the webpage from https://indianexpress.com/section/world/page/26/!\n",
      "Successfully fetched the webpage from https://indianexpress.com/section/world/page/27/!\n",
      "Successfully fetched the webpage from https://indianexpress.com/section/world/page/28/!\n",
      "Successfully fetched the webpage from https://indianexpress.com/section/world/page/29/!\n",
      "Successfully fetched the webpage from https://indianexpress.com/section/world/page/30/!\n",
      "                                         News_Headline Category\n",
      "0    South Korea crisis: Police raid President Yoon...    world\n",
      "1    South Korea’s ex-defence minister tries to kil...    world\n",
      "2    South Korea’s national police chief and Seoul’...    world\n",
      "3    Syria’s Bashar al-Assad is in Russia, confirms...    world\n",
      "4    Trump mocks Justin Trudeau, calls him ‘Governo...    world\n",
      "..                                                 ...      ...\n",
      "715  London-bound Air India flight diverted to Cope...    world\n",
      "716  UK PM Keir Starmer’s chief of staff resigns, t...    world\n",
      "717  Ahead of Hamas attack anniversary, rockets fro...    world\n",
      "718  One year into Israel-Hamas war: A look at key ...    world\n",
      "719  ‘Greening’ of the Antarctic: How extreme heat ...    world\n",
      "\n",
      "[720 rows x 2 columns]\n"
     ]
    }
   ],
   "source": [
    "def fetch_news_and_category_h3(urls, category):\n",
    "    # Initialize an empty list to store all the news headlines and categories\n",
    "    all_news_statements = []\n",
    "    all_news_categories = []\n",
    "\n",
    "    # Loop through all the URLs\n",
    "    for url in urls:\n",
    "        # Fetch the webpage content\n",
    "        response = requests.get(url)\n",
    "        if response.status_code == 200:\n",
    "            print(f\"Successfully fetched the webpage from {url}!\")\n",
    "        else:\n",
    "            print(f\"Failed to fetch the webpage from {url}. Status code: {response.status_code}\")\n",
    "            continue\n",
    "        \n",
    "        # Parse the HTML content with BeautifulSoup\n",
    "        soup = BeautifulSoup(response.text, 'html.parser')\n",
    "\n",
    "        # Loop through all <h2> tags and extract the text\n",
    "        for x in soup.find_all('h3'):\n",
    "            # Extract text and remove leading/trailing spaces\n",
    "            all_news_statements.append(x.text.strip())\n",
    "            # Append the category for each headline\n",
    "            all_news_categories.append(category)\n",
    "\n",
    "    # Ensure the lengths match\n",
    "    if len(all_news_statements) == len(all_news_categories):\n",
    "        # Create a DataFrame with all the news headlines and categories\n",
    "        news_df_h3 = pd.DataFrame({\n",
    "            'News_Headline': all_news_statements,\n",
    "            'Category': all_news_categories\n",
    "        })\n",
    "        return news_df_h3\n",
    "    else:\n",
    "        print(\"Error: The lengths of the news headlines and categories do not match.\")\n",
    "        return None\n",
    "\n",
    "# Ask the user for multiple URLs\n",
    "urls_input = input(\"Enter multiple URLs (comma-separated): \").split(',')\n",
    "\n",
    "# Ask for the category (e.g., Sports, India, etc.)\n",
    "category_input = input(\"Enter the category for the news (e.g., Sports, India, etc.): \")\n",
    "\n",
    "# Call the function with user inputs\n",
    "news_df_h3 = fetch_news_and_category_h3(urls_input, category_input)\n",
    "\n",
    "# Print the resulting DataFrame\n",
    "if news_df is not None:\n",
    "    print(news_df_h3)"
   ]
  },
  {
   "cell_type": "markdown",
   "id": "ccb9b7a4-23ae-4b52-bf6f-14143fc69515",
   "metadata": {},
   "source": [
    "## For Tech Related News"
   ]
  },
  {
   "cell_type": "code",
   "execution_count": 37,
   "id": "6da67164-8df5-4eaf-930e-4980b1ee7bb8",
   "metadata": {},
   "outputs": [
    {
     "name": "stdin",
     "output_type": "stream",
     "text": [
      "Enter multiple URLs (comma-separated):  https://indianexpress.com/section/technology/,https://indianexpress.com/section/technology/page/2/,https://indianexpress.com/section/technology/page/3/,https://indianexpress.com/section/technology/page/4/,https://indianexpress.com/section/technology/page/5/,https://indianexpress.com/section/technology/page/6/,https://indianexpress.com/section/technology/page/7/,https://indianexpress.com/section/technology/page/8/,https://indianexpress.com/section/technology/page/9/,https://indianexpress.com/section/technology/page/10/,https://indianexpress.com/section/technology/page/11/,https://indianexpress.com/section/technology/page/12/,https://indianexpress.com/section/technology/page/13/,https://indianexpress.com/section/technology/page/14/,https://indianexpress.com/section/technology/page/15/,https://indianexpress.com/section/technology/page/16/,https://indianexpress.com/section/technology/page/17/,https://indianexpress.com/section/technology/page/18/,https://indianexpress.com/section/technology/page/19/,https://indianexpress.com/section/technology/page/20/,https://indianexpress.com/section/technology/page/21/,https://indianexpress.com/section/technology/page/22/,https://indianexpress.com/section/technology/page/23/,https://indianexpress.com/section/technology/page/24/,https://indianexpress.com/section/technology/page/25/,https://indianexpress.com/section/technology/page/26/,https://indianexpress.com/section/technology/page/27/,https://indianexpress.com/section/technology/page/28/,https://indianexpress.com/section/technology/page/29/,https://indianexpress.com/section/technology/page/30/\n",
      "Enter the category for the news (e.g., Sports, India, etc.):  tech\n"
     ]
    },
    {
     "name": "stdout",
     "output_type": "stream",
     "text": [
      "Successfully fetched the webpage from https://indianexpress.com/section/technology/!\n",
      "Successfully fetched the webpage from https://indianexpress.com/section/technology/page/2/!\n",
      "Successfully fetched the webpage from https://indianexpress.com/section/technology/page/3/!\n",
      "Successfully fetched the webpage from https://indianexpress.com/section/technology/page/4/!\n",
      "Successfully fetched the webpage from https://indianexpress.com/section/technology/page/5/!\n",
      "Successfully fetched the webpage from https://indianexpress.com/section/technology/page/6/!\n",
      "Successfully fetched the webpage from https://indianexpress.com/section/technology/page/7/!\n",
      "Successfully fetched the webpage from https://indianexpress.com/section/technology/page/8/!\n",
      "Successfully fetched the webpage from https://indianexpress.com/section/technology/page/9/!\n",
      "Successfully fetched the webpage from https://indianexpress.com/section/technology/page/10/!\n",
      "Successfully fetched the webpage from https://indianexpress.com/section/technology/page/11/!\n",
      "Successfully fetched the webpage from https://indianexpress.com/section/technology/page/12/!\n",
      "Successfully fetched the webpage from https://indianexpress.com/section/technology/page/13/!\n",
      "Successfully fetched the webpage from https://indianexpress.com/section/technology/page/14/!\n",
      "Successfully fetched the webpage from https://indianexpress.com/section/technology/page/15/!\n",
      "Successfully fetched the webpage from https://indianexpress.com/section/technology/page/16/!\n",
      "Successfully fetched the webpage from https://indianexpress.com/section/technology/page/17/!\n",
      "Successfully fetched the webpage from https://indianexpress.com/section/technology/page/18/!\n",
      "Successfully fetched the webpage from https://indianexpress.com/section/technology/page/19/!\n",
      "Successfully fetched the webpage from https://indianexpress.com/section/technology/page/20/!\n",
      "Successfully fetched the webpage from https://indianexpress.com/section/technology/page/21/!\n",
      "Successfully fetched the webpage from https://indianexpress.com/section/technology/page/22/!\n",
      "Successfully fetched the webpage from https://indianexpress.com/section/technology/page/23/!\n",
      "Successfully fetched the webpage from https://indianexpress.com/section/technology/page/24/!\n",
      "Successfully fetched the webpage from https://indianexpress.com/section/technology/page/25/!\n",
      "Successfully fetched the webpage from https://indianexpress.com/section/technology/page/26/!\n",
      "Successfully fetched the webpage from https://indianexpress.com/section/technology/page/27/!\n",
      "Successfully fetched the webpage from https://indianexpress.com/section/technology/page/28/!\n",
      "Successfully fetched the webpage from https://indianexpress.com/section/technology/page/29/!\n",
      "Successfully fetched the webpage from https://indianexpress.com/section/technology/page/30/!\n"
     ]
    }
   ],
   "source": [
    "# Ask the user for multiple URLs\n",
    "urls_input = input(\"Enter multiple URLs (comma-separated): \").split(',')\n",
    "\n",
    "# Ask for the category (e.g., Sports, India, etc.)\n",
    "category_input = input(\"Enter the category for the news (e.g., Sports, India, etc.): \")\n",
    "\n",
    "# Call the function with user inputs\n",
    "tech = fetch_news_and_category_h3(urls_input, category_input)\n"
   ]
  },
  {
   "cell_type": "code",
   "execution_count": 38,
   "id": "e8fa1d56-17ba-43f8-afb6-f5639990a508",
   "metadata": {},
   "outputs": [
    {
     "data": {
      "text/html": [
       "<div>\n",
       "<style scoped>\n",
       "    .dataframe tbody tr th:only-of-type {\n",
       "        vertical-align: middle;\n",
       "    }\n",
       "\n",
       "    .dataframe tbody tr th {\n",
       "        vertical-align: top;\n",
       "    }\n",
       "\n",
       "    .dataframe thead th {\n",
       "        text-align: right;\n",
       "    }\n",
       "</style>\n",
       "<table border=\"1\" class=\"dataframe\">\n",
       "  <thead>\n",
       "    <tr style=\"text-align: right;\">\n",
       "      <th></th>\n",
       "      <th>News_Headline</th>\n",
       "      <th>Category</th>\n",
       "    </tr>\n",
       "  </thead>\n",
       "  <tbody>\n",
       "    <tr>\n",
       "      <th>0</th>\n",
       "      <td>Sony drops free Gran Turismo game as PlayStati...</td>\n",
       "      <td>tech</td>\n",
       "    </tr>\n",
       "    <tr>\n",
       "      <th>1</th>\n",
       "      <td>OpenAI Sora: 9 videos that showcase versatilit...</td>\n",
       "      <td>tech</td>\n",
       "    </tr>\n",
       "    <tr>\n",
       "      <th>2</th>\n",
       "      <td>Apple iPhone SE 4: New rumour yet again hints ...</td>\n",
       "      <td>tech</td>\n",
       "    </tr>\n",
       "    <tr>\n",
       "      <th>3</th>\n",
       "      <td>Amazon Auto launches in the US; Hyundai cars n...</td>\n",
       "      <td>tech</td>\n",
       "    </tr>\n",
       "    <tr>\n",
       "      <th>4</th>\n",
       "      <td>OpenAI unveils Canvas, a tool for collaborativ...</td>\n",
       "      <td>tech</td>\n",
       "    </tr>\n",
       "  </tbody>\n",
       "</table>\n",
       "</div>"
      ],
      "text/plain": [
       "                                       News_Headline Category\n",
       "0  Sony drops free Gran Turismo game as PlayStati...     tech\n",
       "1  OpenAI Sora: 9 videos that showcase versatilit...     tech\n",
       "2  Apple iPhone SE 4: New rumour yet again hints ...     tech\n",
       "3  Amazon Auto launches in the US; Hyundai cars n...     tech\n",
       "4  OpenAI unveils Canvas, a tool for collaborativ...     tech"
      ]
     },
     "execution_count": 38,
     "metadata": {},
     "output_type": "execute_result"
    }
   ],
   "source": [
    "tech.head()"
   ]
  },
  {
   "cell_type": "code",
   "execution_count": 41,
   "id": "06e2d281-3746-4a38-a209-c21f9b587fcb",
   "metadata": {},
   "outputs": [
    {
     "name": "stdout",
     "output_type": "stream",
     "text": [
      "                                          News_Headline Category\n",
      "0     Modi government believes in democratising tech...    India\n",
      "1     Parliament Winter Session LIVE Updates: Uproar...    India\n",
      "2     Remove Nishikant Dubey’s defamatory, unparliam...    India\n",
      "3     ‘Happy I’m an Indian now’: Pakistan-born Chris...    India\n",
      "4     ‘Unable to pay school fees, scooter EMIs’: Odi...    India\n",
      "...                                                 ...      ...\n",
      "5820  Elon Musk claims US government made SpaceX put...     tech\n",
      "5821  WhatsApp now lets you store contacts on the ap...     tech\n",
      "5822  Indian cybersecurity execs call for stronger g...     tech\n",
      "5823  Google Gemini may soon let you make calls and ...     tech\n",
      "5824  Qualcomm says Snapdragon 8 Elite will support ...     tech\n",
      "\n",
      "[5825 rows x 2 columns]\n"
     ]
    }
   ],
   "source": [
    "# Assuming these are the actual DataFrames, not strings\n",
    "dataframe_list = [news_df, sports, Entertainment, Business, sports_1, city, lifestyle, news_df_h3, tech]\n",
    "\n",
    "def append_dataframes(dataframe_list):\n",
    "    \"\"\"\n",
    "    Function to append multiple DataFrames into a single DataFrame.\n",
    "    \n",
    "    Parameters:\n",
    "    dataframe_list (list): A list of DataFrames to be appended.\n",
    "    \n",
    "    Returns:\n",
    "    pd.DataFrame: A single DataFrame containing all the data.\n",
    "    \"\"\"\n",
    "    if not dataframe_list:\n",
    "        print(\"The list of dataframes is empty.\")\n",
    "        return None\n",
    "    \n",
    "    # Concatenate all DataFrames in the list\n",
    "    final_df = pd.concat(dataframe_list, ignore_index=True)\n",
    "    \n",
    "    return final_df\n",
    "\n",
    "# Example usage:\n",
    "final_dataframe = append_dataframes(dataframe_list)\n",
    "\n",
    "# Print the result\n",
    "print(final_dataframe)\n"
   ]
  },
  {
   "cell_type": "code",
   "execution_count": 42,
   "id": "be5e908e-d622-4f67-a839-888df3e7a23c",
   "metadata": {},
   "outputs": [
    {
     "data": {
      "text/html": [
       "<div>\n",
       "<style scoped>\n",
       "    .dataframe tbody tr th:only-of-type {\n",
       "        vertical-align: middle;\n",
       "    }\n",
       "\n",
       "    .dataframe tbody tr th {\n",
       "        vertical-align: top;\n",
       "    }\n",
       "\n",
       "    .dataframe thead th {\n",
       "        text-align: right;\n",
       "    }\n",
       "</style>\n",
       "<table border=\"1\" class=\"dataframe\">\n",
       "  <thead>\n",
       "    <tr style=\"text-align: right;\">\n",
       "      <th></th>\n",
       "      <th>News_Headline</th>\n",
       "      <th>Category</th>\n",
       "    </tr>\n",
       "  </thead>\n",
       "  <tbody>\n",
       "    <tr>\n",
       "      <th>0</th>\n",
       "      <td>Modi government believes in democratising tech...</td>\n",
       "      <td>India</td>\n",
       "    </tr>\n",
       "    <tr>\n",
       "      <th>1</th>\n",
       "      <td>Parliament Winter Session LIVE Updates: Uproar...</td>\n",
       "      <td>India</td>\n",
       "    </tr>\n",
       "    <tr>\n",
       "      <th>2</th>\n",
       "      <td>Remove Nishikant Dubey’s defamatory, unparliam...</td>\n",
       "      <td>India</td>\n",
       "    </tr>\n",
       "    <tr>\n",
       "      <th>3</th>\n",
       "      <td>‘Happy I’m an Indian now’: Pakistan-born Chris...</td>\n",
       "      <td>India</td>\n",
       "    </tr>\n",
       "    <tr>\n",
       "      <th>4</th>\n",
       "      <td>‘Unable to pay school fees, scooter EMIs’: Odi...</td>\n",
       "      <td>India</td>\n",
       "    </tr>\n",
       "  </tbody>\n",
       "</table>\n",
       "</div>"
      ],
      "text/plain": [
       "                                       News_Headline Category\n",
       "0  Modi government believes in democratising tech...    India\n",
       "1  Parliament Winter Session LIVE Updates: Uproar...    India\n",
       "2  Remove Nishikant Dubey’s defamatory, unparliam...    India\n",
       "3  ‘Happy I’m an Indian now’: Pakistan-born Chris...    India\n",
       "4  ‘Unable to pay school fees, scooter EMIs’: Odi...    India"
      ]
     },
     "execution_count": 42,
     "metadata": {},
     "output_type": "execute_result"
    }
   ],
   "source": [
    "final_dataframe.head()"
   ]
  },
  {
   "cell_type": "code",
   "execution_count": 43,
   "id": "ad5231af-a306-4933-979f-79435e8a5565",
   "metadata": {},
   "outputs": [
    {
     "data": {
      "text/plain": [
       "(5825, 2)"
      ]
     },
     "execution_count": 43,
     "metadata": {},
     "output_type": "execute_result"
    }
   ],
   "source": [
    "final_dataframe.shape"
   ]
  },
  {
   "cell_type": "code",
   "execution_count": 44,
   "id": "b86243e0-94b8-4cc1-89f8-fae60340e165",
   "metadata": {},
   "outputs": [],
   "source": [
    "# Save the final dataframe to a CSV file\n",
    "final_dataframe.to_csv('final_dataframe.csv', index=False)"
   ]
  },
  {
   "cell_type": "code",
   "execution_count": null,
   "id": "0378f4e8-bbad-4890-955c-840f18308b2c",
   "metadata": {},
   "outputs": [],
   "source": []
  }
 ],
 "metadata": {
  "kernelspec": {
   "display_name": "Python 3 (ipykernel)",
   "language": "python",
   "name": "python3"
  },
  "language_info": {
   "codemirror_mode": {
    "name": "ipython",
    "version": 3
   },
   "file_extension": ".py",
   "mimetype": "text/x-python",
   "name": "python",
   "nbconvert_exporter": "python",
   "pygments_lexer": "ipython3",
   "version": "3.11.9"
  }
 },
 "nbformat": 4,
 "nbformat_minor": 5
}
